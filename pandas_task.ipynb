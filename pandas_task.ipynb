{
 "nbformat": 4,
 "nbformat_minor": 0,
 "metadata": {
  "colab": {
   "name": "lab3_TP.ipynb",
   "provenance": []
  },
  "kernelspec": {
   "name": "python3",
   "display_name": "Python 3"
  },
  "language_info": {
   "name": "python"
  }
 },
 "cells": [
  {
   "cell_type": "markdown",
   "metadata": {
    "id": "I3g_wSGL3MmR"
   },
   "source": [
    "## Задание по библиотекам Pandas и Matplotlib\n",
    "### Лабораторная работа № 3 по дисциплине \"Технологии программирования\"\n",
    "\n",
    "Подключаем необходимые библиотеки:"
   ]
  },
  {
   "cell_type": "code",
   "metadata": {
    "id": "5JrhiqZe7TPt"
   },
   "source": [
    "import numpy as np\n",
    "import pandas as pd"
   ],
   "execution_count": 1,
   "outputs": []
  },
  {
   "cell_type": "markdown",
   "metadata": {
    "id": "fTiVoEbG3uQK"
   },
   "source": [
    "Скачиваем датасет с информацией о пассажирах Титаника:"
   ]
  },
  {
   "cell_type": "code",
   "metadata": {
    "colab": {
     "base_uri": "https://localhost:8080/"
    },
    "id": "0nIDXlQw7cd1",
    "outputId": "3ba60a39-f287-4e57-c587-16a8c0ccb041"
   },
   "source": [
    "!wget https://web.stanford.edu/class/archive/cs/cs109/cs109.1166/stuff/titanic.csv"
   ],
   "execution_count": 2,
   "outputs": [
    {
     "output_type": "stream",
     "name": "stdout",
     "text": [
      "--2021-11-15 18:47:04--  https://web.stanford.edu/class/archive/cs/cs109/cs109.1166/stuff/titanic.csv\n",
      "Resolving web.stanford.edu (web.stanford.edu)... 171.67.215.200, 2607:f6d0:0:925a::ab43:d7c8\n",
      "Connecting to web.stanford.edu (web.stanford.edu)|171.67.215.200|:443... connected.\n",
      "HTTP request sent, awaiting response... 200 OK\n",
      "Length: 44225 (43K) [text/csv]\n",
      "Saving to: ‘titanic.csv.1’\n",
      "\n",
      "titanic.csv.1       100%[===================>]  43.19K  --.-KB/s    in 0.1s    \n",
      "\n",
      "2021-11-15 18:47:04 (293 KB/s) - ‘titanic.csv.1’ saved [44225/44225]\n",
      "\n"
     ]
    }
   ]
  },
  {
   "cell_type": "markdown",
   "metadata": {
    "id": "yMwocgU130uw"
   },
   "source": [
    "Проверяем наличие скачанного датасета:\n",
    "\n"
   ]
  },
  {
   "cell_type": "code",
   "metadata": {
    "colab": {
     "base_uri": "https://localhost:8080/"
    },
    "id": "TjHPbqhn8YN_",
    "outputId": "1de2578d-0d44-414d-9338-e32fbfdb952a"
   },
   "source": [
    "!ls"
   ],
   "execution_count": 3,
   "outputs": [
    {
     "output_type": "stream",
     "name": "stdout",
     "text": [
      "sample_data  titanic.csv  titanic.csv.1\n"
     ]
    }
   ]
  },
  {
   "cell_type": "markdown",
   "metadata": {
    "id": "ItrlSxua9gYK"
   },
   "source": [
    "Значения колонок датасета следующие (__в соответствии с информацией с сайта__):\n",
    "*    Survived Indicator (выжил пассажир или нет)\n",
    "*    Passenger Class (класс)\n",
    "*    Name (имя)\n",
    "*    Sex (пол)\n",
    "*    Age (возраст)\n",
    "*    Siblings/Spouses Aboard (есть ли братья, сестры или супруг(а) на борту)\n",
    "*    Parents/Children Aboard (есть ли родители или дети на борту)\n",
    "*    Fare paid in £s (цена билета в фунтах стерлингов)"
   ]
  },
  {
   "cell_type": "markdown",
   "metadata": {
    "id": "zj6JdCAw4JVf"
   },
   "source": [
    "Загружаем данные и формируем Pandas DataFrame:"
   ]
  },
  {
   "cell_type": "code",
   "metadata": {
    "colab": {
     "base_uri": "https://localhost:8080/",
     "height": 423
    },
    "id": "Fe59USAb8cA_",
    "outputId": "bdccd2c1-2549-4af0-bba0-4a403b2718cf"
   },
   "source": [
    "df = pd.read_csv('titanic.csv')\n",
    "df"
   ],
   "execution_count": 4,
   "outputs": [
    {
     "output_type": "execute_result",
     "data": {
      "text/html": [
       "<div>\n",
       "<style scoped>\n",
       "    .dataframe tbody tr th:only-of-type {\n",
       "        vertical-align: middle;\n",
       "    }\n",
       "\n",
       "    .dataframe tbody tr th {\n",
       "        vertical-align: top;\n",
       "    }\n",
       "\n",
       "    .dataframe thead th {\n",
       "        text-align: right;\n",
       "    }\n",
       "</style>\n",
       "<table border=\"1\" class=\"dataframe\">\n",
       "  <thead>\n",
       "    <tr style=\"text-align: right;\">\n",
       "      <th></th>\n",
       "      <th>Survived</th>\n",
       "      <th>Pclass</th>\n",
       "      <th>Name</th>\n",
       "      <th>Sex</th>\n",
       "      <th>Age</th>\n",
       "      <th>Siblings/Spouses Aboard</th>\n",
       "      <th>Parents/Children Aboard</th>\n",
       "      <th>Fare</th>\n",
       "    </tr>\n",
       "  </thead>\n",
       "  <tbody>\n",
       "    <tr>\n",
       "      <th>0</th>\n",
       "      <td>0</td>\n",
       "      <td>3</td>\n",
       "      <td>Mr. Owen Harris Braund</td>\n",
       "      <td>male</td>\n",
       "      <td>22.0</td>\n",
       "      <td>1</td>\n",
       "      <td>0</td>\n",
       "      <td>7.2500</td>\n",
       "    </tr>\n",
       "    <tr>\n",
       "      <th>1</th>\n",
       "      <td>1</td>\n",
       "      <td>1</td>\n",
       "      <td>Mrs. John Bradley (Florence Briggs Thayer) Cum...</td>\n",
       "      <td>female</td>\n",
       "      <td>38.0</td>\n",
       "      <td>1</td>\n",
       "      <td>0</td>\n",
       "      <td>71.2833</td>\n",
       "    </tr>\n",
       "    <tr>\n",
       "      <th>2</th>\n",
       "      <td>1</td>\n",
       "      <td>3</td>\n",
       "      <td>Miss. Laina Heikkinen</td>\n",
       "      <td>female</td>\n",
       "      <td>26.0</td>\n",
       "      <td>0</td>\n",
       "      <td>0</td>\n",
       "      <td>7.9250</td>\n",
       "    </tr>\n",
       "    <tr>\n",
       "      <th>3</th>\n",
       "      <td>1</td>\n",
       "      <td>1</td>\n",
       "      <td>Mrs. Jacques Heath (Lily May Peel) Futrelle</td>\n",
       "      <td>female</td>\n",
       "      <td>35.0</td>\n",
       "      <td>1</td>\n",
       "      <td>0</td>\n",
       "      <td>53.1000</td>\n",
       "    </tr>\n",
       "    <tr>\n",
       "      <th>4</th>\n",
       "      <td>0</td>\n",
       "      <td>3</td>\n",
       "      <td>Mr. William Henry Allen</td>\n",
       "      <td>male</td>\n",
       "      <td>35.0</td>\n",
       "      <td>0</td>\n",
       "      <td>0</td>\n",
       "      <td>8.0500</td>\n",
       "    </tr>\n",
       "    <tr>\n",
       "      <th>...</th>\n",
       "      <td>...</td>\n",
       "      <td>...</td>\n",
       "      <td>...</td>\n",
       "      <td>...</td>\n",
       "      <td>...</td>\n",
       "      <td>...</td>\n",
       "      <td>...</td>\n",
       "      <td>...</td>\n",
       "    </tr>\n",
       "    <tr>\n",
       "      <th>882</th>\n",
       "      <td>0</td>\n",
       "      <td>2</td>\n",
       "      <td>Rev. Juozas Montvila</td>\n",
       "      <td>male</td>\n",
       "      <td>27.0</td>\n",
       "      <td>0</td>\n",
       "      <td>0</td>\n",
       "      <td>13.0000</td>\n",
       "    </tr>\n",
       "    <tr>\n",
       "      <th>883</th>\n",
       "      <td>1</td>\n",
       "      <td>1</td>\n",
       "      <td>Miss. Margaret Edith Graham</td>\n",
       "      <td>female</td>\n",
       "      <td>19.0</td>\n",
       "      <td>0</td>\n",
       "      <td>0</td>\n",
       "      <td>30.0000</td>\n",
       "    </tr>\n",
       "    <tr>\n",
       "      <th>884</th>\n",
       "      <td>0</td>\n",
       "      <td>3</td>\n",
       "      <td>Miss. Catherine Helen Johnston</td>\n",
       "      <td>female</td>\n",
       "      <td>7.0</td>\n",
       "      <td>1</td>\n",
       "      <td>2</td>\n",
       "      <td>23.4500</td>\n",
       "    </tr>\n",
       "    <tr>\n",
       "      <th>885</th>\n",
       "      <td>1</td>\n",
       "      <td>1</td>\n",
       "      <td>Mr. Karl Howell Behr</td>\n",
       "      <td>male</td>\n",
       "      <td>26.0</td>\n",
       "      <td>0</td>\n",
       "      <td>0</td>\n",
       "      <td>30.0000</td>\n",
       "    </tr>\n",
       "    <tr>\n",
       "      <th>886</th>\n",
       "      <td>0</td>\n",
       "      <td>3</td>\n",
       "      <td>Mr. Patrick Dooley</td>\n",
       "      <td>male</td>\n",
       "      <td>32.0</td>\n",
       "      <td>0</td>\n",
       "      <td>0</td>\n",
       "      <td>7.7500</td>\n",
       "    </tr>\n",
       "  </tbody>\n",
       "</table>\n",
       "<p>887 rows × 8 columns</p>\n",
       "</div>"
      ],
      "text/plain": [
       "     Survived  Pclass  ... Parents/Children Aboard     Fare\n",
       "0           0       3  ...                       0   7.2500\n",
       "1           1       1  ...                       0  71.2833\n",
       "2           1       3  ...                       0   7.9250\n",
       "3           1       1  ...                       0  53.1000\n",
       "4           0       3  ...                       0   8.0500\n",
       "..        ...     ...  ...                     ...      ...\n",
       "882         0       2  ...                       0  13.0000\n",
       "883         1       1  ...                       0  30.0000\n",
       "884         0       3  ...                       2  23.4500\n",
       "885         1       1  ...                       0  30.0000\n",
       "886         0       3  ...                       0   7.7500\n",
       "\n",
       "[887 rows x 8 columns]"
      ]
     },
     "metadata": {},
     "execution_count": 4
    }
   ]
  },
  {
   "cell_type": "markdown",
   "metadata": {
    "id": "Q-hZYMK_4SZE"
   },
   "source": [
    "__С использованием датафрейма нужно выполнить следующие задания__."
   ]
  },
  {
   "cell_type": "markdown",
   "metadata": {
    "id": "D_sLJDujBF1J"
   },
   "source": [
    "1. Определите, содержит ли какой-нибудь столбец датасета пропущенные значения."
   ]
  },
  {
   "cell_type": "code",
   "metadata": {
    "id": "IUMILEDGBE2e"
   },
   "source": [
    "# Ваш код"
   ],
   "execution_count": 5,
   "outputs": []
  },
  {
   "cell_type": "markdown",
   "metadata": {
    "id": "f9Z9pWUJBcbG"
   },
   "source": [
    "2. В соответствии с вариантом, определите:\n",
    "\n",
    "   1. Количество женщин старше 50 лет на борту.\n",
    "   2. Количество пассажиров, путешествующих вторым классом вместе с родителями или детьми.\n",
    "   3. Число погибших детей в возрасте до 12 лет, путешествующих первым классом.\n",
    "   4. Среднее значение коэффициента выживаемости десяти пассажиров третьего класса с самыми дорогими билетами.\n",
    "   5. Среднее значение цены билета пассажиров, путешествующих без родственников."
   ]
  },
  {
   "cell_type": "code",
   "metadata": {
    "id": "oKTGxDszBuaA"
   },
   "source": [
    "# Ваш код"
   ],
   "execution_count": 6,
   "outputs": []
  },
  {
   "cell_type": "markdown",
   "metadata": {
    "id": "XJ2U4XhVyxQh"
   },
   "source": [
    "3. Постройте диаграмму распределения значений цены билета по всем пассажирам. Проинтерпретируйте результат. Можно ли сказать, что в данных наблюдаются выбросы?"
   ]
  },
  {
   "cell_type": "code",
   "metadata": {
    "id": "DmEJQBYmy6DH"
   },
   "source": [
    "# Ваш код"
   ],
   "execution_count": 7,
   "outputs": []
  },
  {
   "cell_type": "markdown",
   "metadata": {
    "id": "7s_F5OTY0Edd"
   },
   "source": []
  },
  {
   "cell_type": "markdown",
   "metadata": {
    "id": "4wieKYl10KdV"
   },
   "source": [
    "4. В соответствии с вариантом, определите, верны ли следующие утверждения. Приведите доказательства ответа.\n",
    "\n",
    "  1. Чем дороже билет, тем выше вероятность выжить.\n",
    "  2. Мужчинам в катастрофе выжить проще.\n",
    "  3. Чем больше родственников у человека, тем выше шанс того, что он купит билет третьего класса.\n",
    "  4. Если Вам больше 70 лет, то шансов выжить в катастрофе у Вас практически нет.\n",
    "  5. Чем больше родственников у чаловека, тем выше его шанс погибнуть."
   ]
  },
  {
   "cell_type": "code",
   "metadata": {
    "id": "HoS9d2Su2gMS"
   },
   "source": [
    "# Ваш код"
   ],
   "execution_count": 8,
   "outputs": []
  },
  {
   "cell_type": "markdown",
   "metadata": {
    "id": "2at68_9T2hDl"
   },
   "source": [
    "5. Столбец с именем пассажиров вряд ли будет иметь значение для последующего анализа данных. Удалите этот столбец из датафрейма. Выведите на экран полученный датасет."
   ]
  },
  {
   "cell_type": "code",
   "metadata": {
    "id": "t7TviNPz4uH3"
   },
   "source": [
    "# Ваш код"
   ],
   "execution_count": 9,
   "outputs": []
  },
  {
   "cell_type": "markdown",
   "metadata": {
    "id": "DBWJZ5wz4vHI"
   },
   "source": [
    "6. Столбец \"пол пассажира\" является категориальным. Закодируйте его с помощью ohe-hot-кодирования (OHE). Выведите на экран полученный датасет."
   ]
  },
  {
   "cell_type": "code",
   "metadata": {
    "id": "BWFDCRTx5U_f"
   },
   "source": [
    "# Ваш код"
   ],
   "execution_count": 10,
   "outputs": []
  },
  {
   "cell_type": "markdown",
   "metadata": {
    "id": "4CPe5nsv5Wom"
   },
   "source": [
    "7. Постройте диаграмму рассеяния между признаками \"Возраст\" и \"Цена билета\". Проинтерпретируйте ответ."
   ]
  },
  {
   "cell_type": "code",
   "metadata": {
    "id": "WCKp1oox589c"
   },
   "source": [
    "# Ваш код"
   ],
   "execution_count": 11,
   "outputs": []
  },
  {
   "cell_type": "markdown",
   "metadata": {
    "id": "6zkrF4F05_mh"
   },
   "source": [
    "8. Отнормируйте значения признаков \"Возраст\" и \"Цена билета\". Выведите на экран полученный датасет."
   ]
  },
  {
   "cell_type": "code",
   "metadata": {
    "id": "Y7R5N0Mu6TdL"
   },
   "source": [
    "# Ваш код"
   ],
   "execution_count": 12,
   "outputs": []
  },
  {
   "cell_type": "markdown",
   "metadata": {
    "id": "JCPc6ZFT65H5"
   },
   "source": [
    "9. Постройте гистограммы распределения пассажиров по полу и по возрасту для каждого класса. Расположите гистограммы одна под другой. Оси абсцисс должны быть однаковыми."
   ]
  },
  {
   "cell_type": "code",
   "metadata": {
    "id": "ypDn2pD67BQg"
   },
   "source": [
    "# Ваш код"
   ],
   "execution_count": 13,
   "outputs": []
  },
  {
   "cell_type": "markdown",
   "metadata": {
    "id": "37NMecFT7B_0"
   },
   "source": [
    "10. Сделайте выводы по работе."
   ]
  }
 ]
}
